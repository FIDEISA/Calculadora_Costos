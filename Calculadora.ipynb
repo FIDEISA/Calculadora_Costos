{
 "cells": [
  {
   "cell_type": "code",
   "execution_count": null,
   "id": "c7fac233",
   "metadata": {},
   "outputs": [
    {
     "name": "stdout",
     "output_type": "stream",
     "text": [
      "Comisiones y Gts. Dep. Chq.: 3.42%\n",
      "Comisiones y Gts. Bco.: 0.06%\n",
      "\n",
      "Capital: $ 1,000,000\n",
      "TNA: 51.00%\n",
      "Comisiones BCBB: 5.00%\n",
      "Plazo: 30\n",
      "\n",
      "TEA: 79.74%\n",
      "TEM: 4.94%\n",
      "Precio: 0.995907, Der. Mercado: 0.00024199999999999997, Gst. Arancel: 0.0009945205479452053\n",
      "Capital: $ 1,000,000\n",
      "TAMAR: 51.00%\n",
      "TNA: 5.00%\n",
      "Plazo: 30\n",
      "\n",
      "TEM: 4.85%\n",
      "TEA: 77.99%\n"
     ]
    }
   ],
   "source": [
    "import pandas as pd\n",
    "import numpy as np\n",
    "\n",
    "from pyxirr import xirr\n",
    "\n",
    "from str.constantes import com_gst_bco, d_mercado, arancel\n",
    "\n",
    "import str.cheques as cheques\n",
    "import str.pagares as pagares\n",
    "\n",
    "df, tea, tem = cheques.flujo(0.51, 0.05, 30)\n",
    "df, tea, tem = pagares.flujo(0.51, 0.05, 30)"
   ]
  }
 ],
 "metadata": {
  "kernelspec": {
   "display_name": "Python 3",
   "language": "python",
   "name": "python3"
  },
  "language_info": {
   "codemirror_mode": {
    "name": "ipython",
    "version": 3
   },
   "file_extension": ".py",
   "mimetype": "text/x-python",
   "name": "python",
   "nbconvert_exporter": "python",
   "pygments_lexer": "ipython3",
   "version": "3.13.3"
  }
 },
 "nbformat": 4,
 "nbformat_minor": 5
}
