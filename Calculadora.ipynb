{
 "cells": [
  {
   "cell_type": "code",
   "execution_count": 1,
   "id": "c7fac233",
   "metadata": {},
   "outputs": [
    {
     "name": "stdout",
     "output_type": "stream",
     "text": [
      "Costo de fondearse con inversores de la BCBB:\n",
      "    TEM: 5.13%\n",
      "    TEA: 83.83%\n",
      "Costo de fondearse con pagares:\n",
      "    TEM: 6.21%\n",
      "    TEA: 108.22%\n",
      "Rendimiento de vender créditos:\n",
      "    TEM: 6.36%\n",
      "    TEA: 111.73%\n",
      "Rendimiento de vender cartera:\n",
      "    TEM: 15.70%\n",
      "    TEA: 489.63%\n",
      "Costo fondearse vendiendo cartera:\n",
      "    TEM: 6.95%\n",
      "    TEA: 126.44%\n"
     ]
    }
   ],
   "source": [
    "import pandas as pd\n",
    "import numpy as np\n",
    "import numpy_financial as npf\n",
    "\n",
    "from pyxirr import xirr\n",
    "from importlib import reload\n",
    "\n",
    "from str.constantes import com_gst_bco, d_mercado, arancel\n",
    "\n",
    "import str.cheques as cheques\n",
    "import str.pagares as pagares\n",
    "import str.credito as credito\n",
    "import str.venta   as venta\n",
    "\n",
    "df, tea, tem = cheques.flujo(0.51, 0.05, 30)\n",
    "df, tea, tem = pagares.flujo(0.51, 0.05, 30)\n",
    "df, tea, tem = credito.flujo(tna=1.71, plazo=9, colocacion=0.05, cobranza=0.04, iibb=0.07)\n",
    "df, tea, tem = venta.flujo(fecha_vta=pd.Period.now('D') + 30, tna_desc=0.6, tna=1.71, plazo=9, colocacion=0.05, cobranza=0.04, iibb=0.07, fondeo=False)\n",
    "df, tea, tem = venta.flujo(fecha_vta=pd.Period.now('D') + 30, tna_desc=0.6, tna=1.71, plazo=9, colocacion=0.05, cobranza=0.04, iibb=0.07, fondeo=True)"
   ]
  }
 ],
 "metadata": {
  "kernelspec": {
   "display_name": "Python 3",
   "language": "python",
   "name": "python3"
  },
  "language_info": {
   "codemirror_mode": {
    "name": "ipython",
    "version": 3
   },
   "file_extension": ".py",
   "mimetype": "text/x-python",
   "name": "python",
   "nbconvert_exporter": "python",
   "pygments_lexer": "ipython3",
   "version": "3.13.3"
  }
 },
 "nbformat": 4,
 "nbformat_minor": 5
}
